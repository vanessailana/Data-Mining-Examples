{
  "nbformat": 4,
  "nbformat_minor": 0,
  "metadata": {
    "colab": {
      "provenance": []
    },
    "kernelspec": {
      "name": "python3",
      "display_name": "Python 3"
    },
    "language_info": {
      "name": "python"
    }
  },
  "cells": [
    {
      "cell_type": "code",
      "execution_count": 9,
      "metadata": {
        "id": "rwPqPTP-8V7F",
        "colab": {
          "base_uri": "https://localhost:8080/",
          "height": 1000
        },
        "outputId": "c8363abe-99c8-443d-dad3-096c5b6e2aa0"
      },
      "outputs": [
        {
          "output_type": "stream",
          "name": "stderr",
          "text": [
            "/usr/local/lib/python3.8/dist-packages/sklearn/utils/deprecation.py:87: FutureWarning: Function load_boston is deprecated; `load_boston` is deprecated in 1.0 and will be removed in 1.2.\n",
            "\n",
            "    The Boston housing prices dataset has an ethical problem. You can refer to\n",
            "    the documentation of this function for further details.\n",
            "\n",
            "    The scikit-learn maintainers therefore strongly discourage the use of this\n",
            "    dataset unless the purpose of the code is to study and educate about\n",
            "    ethical issues in data science and machine learning.\n",
            "\n",
            "    In this special case, you can fetch the dataset from the original\n",
            "    source::\n",
            "\n",
            "        import pandas as pd\n",
            "        import numpy as np\n",
            "\n",
            "\n",
            "        data_url = \"http://lib.stat.cmu.edu/datasets/boston\"\n",
            "        raw_df = pd.read_csv(data_url, sep=\"\\s+\", skiprows=22, header=None)\n",
            "        data = np.hstack([raw_df.values[::2, :], raw_df.values[1::2, :2]])\n",
            "        target = raw_df.values[1::2, 2]\n",
            "\n",
            "    Alternative datasets include the California housing dataset (i.e.\n",
            "    :func:`~sklearn.datasets.fetch_california_housing`) and the Ames housing\n",
            "    dataset. You can load the datasets as follows::\n",
            "\n",
            "        from sklearn.datasets import fetch_california_housing\n",
            "        housing = fetch_california_housing()\n",
            "\n",
            "    for the California housing dataset and::\n",
            "\n",
            "        from sklearn.datasets import fetch_openml\n",
            "        housing = fetch_openml(name=\"house_prices\", as_frame=True)\n",
            "\n",
            "    for the Ames housing dataset.\n",
            "    \n",
            "  warnings.warn(msg, category=FutureWarning)\n"
          ]
        },
        {
          "output_type": "stream",
          "name": "stdout",
          "text": [
            "xtrain shape :  (404, 13)\n",
            "xtest shape  :  (102, 13)\n",
            "ytrain shape :  (404,)\n",
            "ytest shape  :  (102,)\n"
          ]
        },
        {
          "output_type": "display_data",
          "data": {
            "text/plain": [
              "<Figure size 432x288 with 1 Axes>"
            ],
            "image/png": "[encoded data removed]"
          },
          "metadata": {
            "needs_background": "light"
          }
        },
        {
          "output_type": "stream",
          "name": "stdout",
          "text": [
            "Mean Square Error :  33.448979997676496\n",
            "Mean Absolute Error :  3.8429092204444966\n"
          ]
        }
      ],
      "source": [
        "# Importing Libraries\n",
        "import numpy as np\n",
        "import pandas as pd\n",
        "import matplotlib.pyplot as plt\n",
        "  \n",
        "# Importing Data\n",
        "from sklearn.datasets import load_boston\n",
        "boston = load_boston()\n",
        "\n",
        "data = pd.DataFrame(boston.data)\n",
        "data.columns = boston.feature_names\n",
        " \n",
        "data.head(10)\n",
        "\n",
        "data['Price'] = boston.target\n",
        "data.head()\n",
        "\n",
        "data.describe()\n",
        "\n",
        "# Input Data\n",
        "x = boston.data\n",
        "  \n",
        "# Output Data\n",
        "y = boston.target\n",
        "  \n",
        "  \n",
        "# splitting data to training and testing dataset.\n",
        " \n",
        "#from sklearn.cross_validation import train_test_split\n",
        "#the submodule cross_validation is renamed and deprecated to model_selection\n",
        "from sklearn.model_selection import train_test_split\n",
        " \n",
        "xtrain, xtest, ytrain, ytest = train_test_split(x, y, test_size =0.2,\n",
        "                                                    random_state = 0)\n",
        "  \n",
        "print(\"xtrain shape : \", xtrain.shape)\n",
        "print(\"xtest shape  : \", xtest.shape)\n",
        "print(\"ytrain shape : \", ytrain.shape)\n",
        "print(\"ytest shape  : \", ytest.shape)\n",
        "\n",
        "# Fitting Multi Linear regression model to training model\n",
        "from sklearn.linear_model import LinearRegression\n",
        "regressor = LinearRegression()\n",
        "regressor.fit(xtrain, ytrain)\n",
        "  \n",
        "# predicting the test set results\n",
        "y_pred = regressor.predict(xtest)\n",
        "# Plotting Scatter graph to show the prediction\n",
        "# results - 'ytrue' value vs 'y_pred' value\n",
        "plt.scatter(ytest, y_pred, c = 'green')\n",
        "plt.xlabel(\"Price: in $1000's\")\n",
        "plt.ylabel(\"Predicted value\")\n",
        "plt.title(\"True value vs predicted value : Linear Regression\")\n",
        "plt.show()\n",
        "\n",
        "from sklearn.metrics import mean_squared_error, mean_absolute_error\n",
        "mse = mean_squared_error(ytest, y_pred)\n",
        "mae = mean_absolute_error(ytest,y_pred)\n",
        "print(\"Mean Square Error : \", mse)\n",
        "print(\"Mean Absolute Error : \", mae)"
      ]
    },
    {
      "cell_type": "markdown",
      "source": [
        "As per result the model is 66.55 accurate. "
      ],
      "metadata": {
        "id": "LQ6Vu8qnK0P8"
      }
    }
  ]
}